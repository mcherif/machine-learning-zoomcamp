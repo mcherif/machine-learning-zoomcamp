{
 "cells": [
  {
   "cell_type": "code",
   "execution_count": null,
   "id": "fa93fb18",
   "metadata": {},
   "outputs": [],
   "source": [
    "import pandas as pd\n",
    "\n",
    "df = pd.read_csv('car_fuel_efficiency.csv')\n",
    "print(f'Number of rows: {len(df)}')"
   ]
  },
  {
   "cell_type": "code",
   "execution_count": null,
   "id": "f15210b5",
   "metadata": {},
   "outputs": [],
   "source": [
    "fuel_types = df['fuel_type'].unique()\n",
    "print(f'Fuel types: {sorted(fuel_types)}')\n",
    "print(f'Number of fuel types: {len(fuel_types)}')"
   ]
  }
 ],
 "metadata": {
  "kernelspec": {
   "display_name": "Python 3",
   "language": "python",
   "name": "python3"
  },
  "language_info": {
   "name": "python",
   "version": "3.11"
  }
 },
 "nbformat": 4,
 "nbformat_minor": 5
}
