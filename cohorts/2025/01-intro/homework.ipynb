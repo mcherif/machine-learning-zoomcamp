{
 "cells": [
  {
   "cell_type": "markdown",
   "id": "31936c8f",
   "metadata": {},
   "source": [
    "HomeWork 1"
   ]
  },
  {
   "cell_type": "markdown",
   "id": "7d5b8162",
   "metadata": {},
   "source": [
    "Q1. Pandas version"
   ]
  },
  {
   "cell_type": "code",
   "execution_count": 1,
   "id": "61e8a42a",
   "metadata": {},
   "outputs": [
    {
     "name": "stdout",
     "output_type": "stream",
     "text": [
      "Pandas version = 2.3.3\n"
     ]
    }
   ],
   "source": [
    "import pandas as pd\n",
    "print(\"Pandas version =\", pd.__version__)"
   ]
  },
  {
   "cell_type": "markdown",
   "id": "b12e18c7",
   "metadata": {},
   "source": [
    "Q2. Records count"
   ]
  },
  {
   "cell_type": "code",
   "execution_count": 2,
   "id": "c58dbb93",
   "metadata": {},
   "outputs": [
    {
     "name": "stderr",
     "output_type": "stream",
     "text": [
      "--2025-10-02 21:35:08--  https://raw.githubusercontent.com/alexeygrigorev/datasets/master/car_fuel_efficiency.csv\n",
      "Resolving raw.githubusercontent.com (raw.githubusercontent.com)... 185.199.108.133, 185.199.111.133, 185.199.109.133, ...\n",
      "Connecting to raw.githubusercontent.com (raw.githubusercontent.com)|185.199.108.133|:443... connected.\n",
      "HTTP request sent, awaiting response... 200 OK\n",
      "Length: 874188 (854K) [text/plain]\n",
      "Saving to: 'car_fuel_efficiency.csv'\n",
      "\n",
      "     0K .......... .......... .......... .......... ..........  5% 1.00M 1s\n",
      "    50K .......... .......... .......... .......... .......... 11% 1.32M 1s\n",
      "   100K .......... .......... .......... .......... .......... 17% 4.37M 0s\n",
      "   150K .......... .......... .......... .......... .......... 23% 6.88M 0s\n",
      "   200K .......... .......... .......... .......... .......... 29% 1.33M 0s\n",
      "   250K .......... .......... .......... .......... .......... 35% 7.07M 0s\n",
      "   300K .......... .......... .......... .......... .......... 40% 5.32M 0s\n",
      "   350K .......... .......... .......... .......... .......... 46% 2.90M 0s\n",
      "   400K .......... .......... .......... .......... .......... 52% 3.34M 0s\n",
      "   450K .......... .......... .......... .......... .......... 58% 3.07M 0s\n",
      "   500K .......... .......... .......... .......... .......... 64% 2.90M 0s\n",
      "   550K .......... .......... .......... .......... .......... 70% 4.11M 0s\n",
      "   600K .......... .......... .......... .......... .......... 76% 2.87M 0s\n",
      "   650K .......... .......... .......... .......... .......... 81% 11.5M 0s\n",
      "   700K .......... .......... .......... .......... .......... 87% 5.85M 0s\n",
      "   750K .......... .......... .......... .......... .......... 93% 1.92M 0s\n",
      "   800K .......... .......... .......... .......... .......... 99% 12.4M 0s\n",
      "   850K ...                                                   100% 70.6G=0.3s\n",
      "\n",
      "2025-10-02 21:35:08 (2.86 MB/s) - 'car_fuel_efficiency.csv' saved [874188/874188]\n",
      "\n"
     ]
    }
   ],
   "source": [
    "!wget https://raw.githubusercontent.com/alexeygrigorev/datasets/master/car_fuel_efficiency.csv"
   ]
  },
  {
   "cell_type": "code",
   "execution_count": 3,
   "id": "3e92eabd",
   "metadata": {},
   "outputs": [
    {
     "name": "stdout",
     "output_type": "stream",
     "text": [
      "Number of rows: 9704\n"
     ]
    }
   ],
   "source": [
    "df = pd.read_csv('car_fuel_efficiency.csv')\n",
    "print(f'Number of rows: {len(df)}')"
   ]
  },
  {
   "cell_type": "markdown",
   "id": "9a1a8d2b",
   "metadata": {},
   "source": [
    "Q3. Fuel types"
   ]
  },
  {
   "cell_type": "code",
   "execution_count": 4,
   "id": "2916d87d",
   "metadata": {},
   "outputs": [
    {
     "name": "stdout",
     "output_type": "stream",
     "text": [
      "Fuel types: ['Diesel', 'Gasoline']\n",
      "Number of fuel types: 2\n"
     ]
    }
   ],
   "source": [
    "fuel_types = df['fuel_type'].unique()\n",
    "print(f'Fuel types: {sorted(fuel_types)}')\n",
    "print(f'Number of fuel types: {len(fuel_types)}')"
   ]
  },
  {
   "cell_type": "markdown",
   "id": "9311c0b3",
   "metadata": {},
   "source": [
    "Q4. Missing values"
   ]
  },
  {
   "cell_type": "code",
   "execution_count": 5,
   "id": "3ae314ee",
   "metadata": {},
   "outputs": [
    {
     "name": "stdout",
     "output_type": "stream",
     "text": [
      "Number of columns with missing values: 4\n"
     ]
    }
   ],
   "source": [
    "# Count columns with missing values\n",
    "missing_cols = df.isnull().sum()\n",
    "num_missing_cols = (missing_cols > 0).sum()\n",
    "print(f'Number of columns with missing values: {num_missing_cols}')"
   ]
  },
  {
   "cell_type": "markdown",
   "id": "fe536acc",
   "metadata": {},
   "source": [
    "Q5. Max fuel efficiency"
   ]
  },
  {
   "cell_type": "code",
   "execution_count": 6,
   "id": "1b735485",
   "metadata": {},
   "outputs": [
    {
     "name": "stdout",
     "output_type": "stream",
     "text": [
      "Maximum fuel efficiency of cars from Asia: 23.759122836520497\n"
     ]
    }
   ],
   "source": [
    "# Maximum fuel efficiency of cars from Asia\n",
    "max_efficiency_asia = df[df['origin'].str.lower() == 'asia']['fuel_efficiency_mpg'].max()\n",
    "print(f\"Maximum fuel efficiency of cars from Asia: {max_efficiency_asia}\")"
   ]
  },
  {
   "cell_type": "markdown",
   "id": "21adfe54",
   "metadata": {},
   "source": [
    "Q6. Median value of horsepower"
   ]
  },
  {
   "cell_type": "code",
   "execution_count": 7,
   "id": "2ce9c00f",
   "metadata": {},
   "outputs": [
    {
     "name": "stdout",
     "output_type": "stream",
     "text": [
      "Horsepower median = 149.0\n"
     ]
    }
   ],
   "source": [
    "horsepower_median = df['horsepower'].median()\n",
    "print(f'Horsepower median = {horsepower_median}')"
   ]
  },
  {
   "cell_type": "code",
   "execution_count": 8,
   "id": "e13106df",
   "metadata": {},
   "outputs": [
    {
     "name": "stdout",
     "output_type": "stream",
     "text": [
      "The most frequent horsepower value is: 152.0\n"
     ]
    }
   ],
   "source": [
    "horsepower_mode = df['horsepower'].mode()\n",
    "most_frequent = horsepower_mode.iloc[0]\n",
    "print(f\"The most frequent horsepower value is: {most_frequent}\")"
   ]
  },
  {
   "cell_type": "code",
   "execution_count": 9,
   "id": "fdc41cb7",
   "metadata": {},
   "outputs": [],
   "source": [
    "# Fill missing values in 'horsepower' with the most frequent value\n",
    "df['horsepower'] = df['horsepower'].fillna(most_frequent)"
   ]
  },
  {
   "cell_type": "code",
   "execution_count": 10,
   "id": "76c9b373",
   "metadata": {},
   "outputs": [
    {
     "name": "stdout",
     "output_type": "stream",
     "text": [
      "Horsepower median after filling missing values: 152.0\n"
     ]
    }
   ],
   "source": [
    "horsepower_median = df['horsepower'].median()\n",
    "print(f'Horsepower median after filling missing values: {horsepower_median}')"
   ]
  },
  {
   "cell_type": "markdown",
   "id": "18bb5e4f",
   "metadata": {},
   "source": [
    "Q7. Sum of weights"
   ]
  },
  {
   "cell_type": "code",
   "execution_count": 11,
   "id": "9e1622bb",
   "metadata": {},
   "outputs": [
    {
     "name": "stdout",
     "output_type": "stream",
     "text": [
      "First 7 rows of asia_cars:\n",
      "    vehicle_weight  model_year\n",
      "8      2714.219310        2016\n",
      "12     2783.868974        2010\n",
      "14     3582.687368        2007\n",
      "20     2231.808142        2011\n",
      "21     2659.431451        2016\n",
      "34     2844.227534        2014\n",
      "38     3761.994038        2019\n",
      "Sum of all elements in w: 0.5187709081074039\n"
     ]
    }
   ],
   "source": [
    "# select all cars from Asia\n",
    "asia_cars = df[df['origin'].str.lower() == 'asia']\n",
    "\n",
    "# select only columns vehicle_weight and model_year\n",
    "asia_cars_2cols = asia_cars[['vehicle_weight', 'model_year']]\n",
    "\n",
    "# Select the first 7 rows\n",
    "print(f'First 7 rows of asia_cars:\\n{asia_cars_2cols.head(7)}')\n",
    "\n",
    "# Get the underlying NumPy array. Let's call it X\n",
    "X = asia_cars_2cols.to_numpy()\n",
    "\n",
    "# Select only the first 7 rows for this calculation\n",
    "X7 = X[:7]\n",
    "\n",
    "# Compute matrix-matrix multiplication between the transpose of X7 and X7. To get the transpose, use X7.T. Let's call the result XTX\n",
    "XTX = X7.T @ X7\n",
    "\n",
    "import numpy as np\n",
    "# Invert XTX. Let's call the result XTX_inv\n",
    "XTX_inv = np.linalg.inv(XTX)\n",
    "\n",
    "# create an array y with values [1100, 1300, 800, 900, 1000, 1100, 1200]\n",
    "y = np.array([1100, 1300, 800, 900, 1000, 1100, 1200])\n",
    "\n",
    "# Multiply the inverse of XTX with the transpose of X7, and then multiply the result by y. Call the result w\n",
    "w = XTX_inv @ (X7.T @ y)\n",
    "\n",
    "# sum of all the elements of the result?\n",
    "w_sum = np.sum(w)\n",
    "print(f\"Sum of all elements in w: {w_sum}\")"
   ]
  }
 ],
 "metadata": {
  "kernelspec": {
   "display_name": "ml-zoomcamp",
   "language": "python",
   "name": "python3"
  },
  "language_info": {
   "codemirror_mode": {
    "name": "ipython",
    "version": 3
   },
   "file_extension": ".py",
   "mimetype": "text/x-python",
   "name": "python",
   "nbconvert_exporter": "python",
   "pygments_lexer": "ipython3",
   "version": "3.13.7"
  }
 },
 "nbformat": 4,
 "nbformat_minor": 5
}
